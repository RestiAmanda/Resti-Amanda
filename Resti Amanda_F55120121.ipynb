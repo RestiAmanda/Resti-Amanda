{
  "nbformat": 4,
  "nbformat_minor": 0,
  "metadata": {
    "colab": {
      "provenance": []
    },
    "kernelspec": {
      "name": "python3",
      "display_name": "Python 3"
    },
    "language_info": {
      "name": "python"
    }
  },
  "cells": [
    {
      "cell_type": "code",
      "execution_count": null,
      "metadata": {
        "id": "NS3ynebZHrsv"
      },
      "outputs": [],
      "source": [
        "import numpy as np # linear algebra\n",
        "import pandas as pd # data processing, CSV file I/O (e.g. pd.read_csv)\n",
        "\n",
        "import matplotlib.pyplot as plt\n",
        "import seaborn as sns\n",
        "\n",
        "from sklearn.model_selection import train_test_split\n",
        "\n",
        "import tensorflow as tf\n",
        "\n",
        "from tensorflow.keras.models import Sequential, Model\n",
        "from tensorflow.keras.layers import Input\n",
        "from tensorflow.keras.layers import Dense\n",
        "\n",
        "from tensorflow.keras.layers import Conv2D, GlobalAveragePooling2D, Dropout, Dense\n",
        "\n",
        "from tensorflow.keras.applications import MobileNet\n",
        "from tensorflow.keras.applications.mobilenet import preprocess_input\n",
        "\n",
        "from tensorflow.keras.preprocessing.image import ImageDataGenerator, img_to_array, load_img\n",
        "# from keras.utils import to_categorical\n",
        "\n",
        "import cv2\n",
        "\n",
        "import os"
      ]
    },
    {
      "cell_type": "code",
      "source": [
        "root_path = '/content/car_and_bike/'\n",
        "class_names = sorted(os.listdir(root_path))\n",
        "n_classes = len(class_names)\n",
        "\n",
        "# Class Distribution\n",
        "class_dis = [len(os.listdir(root_path + name)) for name in class_names]\n",
        "\n",
        "\n",
        "# Show\n",
        "print(f\"Total Number of Classes : {n_classes} \\nClass Names : {class_names}\")"
      ],
      "metadata": {
        "id": "-POkgqY-Tbkb"
      },
      "execution_count": null,
      "outputs": []
    },
    {
      "cell_type": "code",
      "source": [
        "# Initialize Generator\n",
        "BATCH_SIZE = 32\n",
        "IMGSIZE = 244\n",
        "train_gen = ImageDataGenerator(rescale=1/255., rotation_range=10, validation_split=0.2)\n",
        "\n",
        "# Load Data\n",
        "train_ds = train_gen.flow_from_directory(root_path, class_mode='binary', target_size=(IMGSIZE,IMGSIZE), shuffle=True, batch_size=32, subset='training')\n",
        "valid_ds = train_gen.flow_from_directory(root_path, class_mode='binary', target_size=(IMGSIZE,IMGSIZE), shuffle=True, batch_size=32, subset='validation') "
      ],
      "metadata": {
        "id": "OASjIRw7TdZ2"
      },
      "execution_count": null,
      "outputs": []
    },
    {
      "cell_type": "code",
      "source": [
        "j = np.random.randint(BATCH_SIZE)\n",
        "X, y = valid_ds[j]\n",
        "\n",
        "fig, ax = plt.subplots(5, 4, figsize=(20, 16))\n",
        "\n",
        "for i, axis in enumerate(ax.flat):\n",
        "    axis.imshow(X[i])\n",
        "    bike = class_names[int(y[i])]\n",
        "    axis.set(title=bike)"
      ],
      "metadata": {
        "id": "pePA1qD7XPA5"
      },
      "execution_count": null,
      "outputs": []
    },
    {
      "cell_type": "code",
      "source": [
        "mobilenet = MobileNet(input_shape=(244, 244, 3) ,weights='imagenet', include_top=False)"
      ],
      "metadata": {
        "id": "1aVomVscXrCu"
      },
      "execution_count": null,
      "outputs": []
    },
    {
      "cell_type": "code",
      "source": [
        "class VGG16(tnn.Module):\n",
        "    def __init__(self, n_classes=1000):\n",
        "        super(VGG16, self).__init__()\n",
        "\n",
        "        # Build Up Architecture\n",
        "        # Conv blocks (BatchNorm + ReLU activation added in each block)\n",
        "        self.layer1 = vgg_conv_block([3, 64], [64, 64], [3, 3], [1, 1], 2, 2)\n",
        "        self.layer2 = vgg_conv_block([64, 128], [128, 128], [3, 3], [1, 1], 2, 2)\n",
        "        self.layer3 = vgg_conv_block([128, 256, 256], [256, 256, 256], [3, 3, 3], [1, 1, 1], 2, 2)\n",
        "        self.layer4 = vgg_conv_block([256, 512, 512], [512, 512, 512], [3, 3, 3], [1, 1, 1], 2, 2)\n",
        "        self.layer5 = vgg_conv_block([512, 512, 512], [512, 512, 512], [3, 3, 3], [1, 1, 1], 2, 2)\n",
        "\n",
        "        # FC layers\n",
        "        self.layer6 = vgg_fc_layer(7 * 7 * 512, 4096)\n",
        "        self.layer7 = vgg_fc_layer(4096, 4096)\n",
        "\n",
        "        # Final layer\n",
        "        self.layer8 = tnn.Linear(4096, n_classes)\n",
        "\n",
        "    def forward(self, x):\n",
        "        out = self.layer1(x)\n",
        "        out = self.layer2(out)\n",
        "        out = self.layer3(out)\n",
        "        out = self.layer4(out)\n",
        "        vgg16_features = self.layer5(out)\n",
        "        out = vgg16_features.view(out.size(0), -1)\n",
        "        out = self.layer6(out)\n",
        "        out = self.layer7(out)\n",
        "        out = self.layer8(out)\n",
        "\n",
        "        return vgg16_features, out\n",
        "\n",
        "\n",
        "vgg16 = VGG16(n_classes=N_CLASSES)\n",
        "vgg16.cuda()"
      ],
      "metadata": {
        "id": "f8aUVCjKad5l"
      },
      "execution_count": null,
      "outputs": []
    },
    {
      "cell_type": "code",
      "source": [
        "# image-input layer\n",
        "inputs = Input(shape=(IMGSIZE, IMGSIZE, 3))\n",
        "\n",
        "# define the full network\n",
        "x = mobilenet(inputs) # base-model\n",
        "x = GlobalAveragePooling2D()(x)\n",
        "x = Dense(512, activation='relu')(x) # add dense layers so model learn more complex functions\n",
        "x = Dropout(0.5)(x) # to avoid overfitting\n",
        "x = Dense(256, activation='relu')(x) # dense layer 2\n",
        "\n",
        "# output layer\n",
        "outputs = Dense(1, activation='sigmoid')(x)\n",
        "\n",
        "# set the model\n",
        "model = Model(inputs = inputs, outputs=outputs)\n",
        "\n",
        "# freeze base-model (mobilenet) weights\n",
        "model.layers[1].trainable = False\n",
        "\n",
        "model.compile(optimizer= 'adam', loss= 'binary_crossentropy', metrics= ['accuracy'])\n",
        "\n",
        "# model summary\n",
        "model.summary()"
      ],
      "metadata": {
        "id": "4Bc5xErwXu_7"
      },
      "execution_count": null,
      "outputs": []
    },
    {
      "cell_type": "code",
      "source": [
        "history = model.fit_generator(train_ds, \n",
        "                              epochs=5, \n",
        "                              validation_data = valid_ds, \n",
        "                             )"
      ],
      "metadata": {
        "id": "wBjr_nQ3Z8Hw"
      },
      "execution_count": null,
      "outputs": []
    },
    {
      "cell_type": "code",
      "source": [
        "plt.figure(figsize=(15, 5))\n",
        "plt.plot(history.history['loss'])\n",
        "plt.plot(history.history['val_loss'])\n",
        "plt.title('model loss')\n",
        "plt.ylabel('loss')\n",
        "plt.xlabel('epoch')\n",
        "plt.legend(['train', 'test'], loc='best')\n",
        "plt.show()\n",
        "\n",
        "# summarize history for accuracy\n",
        "plt.figure(figsize=(15, 5))\n",
        "plt.plot(history.history['accuracy'])\n",
        "plt.plot(history.history['val_accuracy'])\n",
        "plt.title('model accuracy')\n",
        "plt.ylabel('accuracy')\n",
        "plt.xlabel('epoch')\n",
        "plt.legend(['train', 'test'], loc='best')\n",
        "plt.show()"
      ],
      "metadata": {
        "id": "D1lUyU0daBvy"
      },
      "execution_count": null,
      "outputs": []
    }
  ]
}
